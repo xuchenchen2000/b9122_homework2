{
 "cells": [
  {
   "cell_type": "code",
   "execution_count": 2,
   "id": "1b0ef146",
   "metadata": {},
   "outputs": [],
   "source": [
    "#Q1_2"
   ]
  },
  {
   "cell_type": "code",
   "execution_count": 3,
   "id": "aff08793",
   "metadata": {},
   "outputs": [],
   "source": [
    "import urllib.request\n",
    "import urllib.parse\n",
    "\n",
    "from bs4 import BeautifulSoup\n",
    "\n",
    "def save_html_to_file(html, filename):\n",
    "    with open(filename, 'w', encoding='utf-8') as file:\n",
    "        file.write(html)\n"
   ]
  },
  {
   "cell_type": "code",
   "execution_count": 4,
   "id": "78577ffe",
   "metadata": {},
   "outputs": [],
   "source": [
    "def extract_press_releases(seed_url, target_keyword, min_num_urls):\n",
    "    \n",
    "    child_urls = []\n",
    "    seen_url=[]\n",
    "    result_urls = []\n",
    "    page_num = 0\n",
    "    press_num = 0\n",
    "    \n",
    "    while press_num < min_num_urls and len(child_urls)>=0:\n",
    "        \n",
    "        if len(child_urls) == 0: #find all child urls in current page\n",
    "            \n",
    "            #print('page_num = '+ str(page_num))\n",
    "            page = seed_url + '/page/{}'\n",
    "            page_url = page.format(page_num)\n",
    "            req = urllib.request.Request(page_url, headers={'User-Agent': 'Mozilla/5.0'})\n",
    "            webpage = urllib.request.urlopen(req).read()\n",
    "            soup = BeautifulSoup(webpage, features='html.parser')\n",
    "\n",
    "            for a_tag in soup.find_all('a', href=True):\n",
    "            \n",
    "                org_child_url = a_tag.get('href')\n",
    "                child_url = urllib.parse.urljoin(page_url, org_child_url)\n",
    "            \n",
    "                if child_url not in seen_url and seed_url in child_url:\n",
    "                \n",
    "                    seen_url.append(child_url)\n",
    "                    child_urls.append(child_url)\n",
    "            \n",
    "            #print('Number of child urls in page'+ str(page_num) +\" : \"+ str(len(child_urls)))\n",
    "            page_num += 1\n",
    "        \n",
    "        try:\n",
    "            current_url = child_urls.pop(0)\n",
    "            req = urllib.request.Request(current_url, headers={'User-Agent': 'Mozilla/5.0'})\n",
    "            webpage = urllib.request.urlopen(req).read()\n",
    "            soup = BeautifulSoup(webpage, features='html.parser')\n",
    "            tag = soup.find('span', class_=\"ep_name\", text='Plenary session')\n",
    "            #print('left child urls ='+str(len(child_urls)) )\n",
    "            \n",
    "            if tag:\n",
    "                text = soup.get_text()\n",
    "                if 'crisis' in text.lower():\n",
    "                    press_num += 1\n",
    "                    #print('press_num = '+ str(press_num))\n",
    "                    #print(current_url)\n",
    "                    result_urls.append(current_url)\n",
    "                    save_html_to_file(str(soup), f'2_{press_num}.txt')\n",
    "            #else:\n",
    "                #print('None')\n",
    "        except:\n",
    "            continue\n",
    "            \n",
    "    return result_urls\n",
    "\n",
    "\n",
    "            \n"
   ]
  },
  {
   "cell_type": "code",
   "execution_count": null,
   "id": "ec539e83",
   "metadata": {},
   "outputs": [],
   "source": [
    "seed_url = \"https://www.europarl.europa.eu/news/en/press-room\"\n",
    "target_keyword = \"crisis\"\n",
    "min_num_urls = 10\n",
    "\n",
    "press_releases = extract_press_releases(seed_url, target_keyword, min_num_urls)\n"
   ]
  },
  {
   "cell_type": "code",
   "execution_count": null,
   "id": "fcb7af91",
   "metadata": {},
   "outputs": [],
   "source": []
  }
 ],
 "metadata": {
  "kernelspec": {
   "display_name": "Python 3",
   "language": "python",
   "name": "python3"
  },
  "language_info": {
   "codemirror_mode": {
    "name": "ipython",
    "version": 3
   },
   "file_extension": ".py",
   "mimetype": "text/x-python",
   "name": "python",
   "nbconvert_exporter": "python",
   "pygments_lexer": "ipython3",
   "version": "3.8.8"
  }
 },
 "nbformat": 4,
 "nbformat_minor": 5
}
