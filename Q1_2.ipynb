{
 "cells": [
  {
   "cell_type": "code",
   "execution_count": 1,
   "id": "1b0ef146",
   "metadata": {},
   "outputs": [],
   "source": [
    "#Q1_2"
   ]
  },
  {
   "cell_type": "code",
   "execution_count": 2,
   "id": "aff08793",
   "metadata": {},
   "outputs": [],
   "source": [
    "import urllib.request\n",
    "import urllib.parse\n",
    "\n",
    "from bs4 import BeautifulSoup\n",
    "\n",
    "def save_html_to_file(html, filename):\n",
    "    with open(filename, 'w', encoding='utf-8') as file:\n",
    "        file.write(html)\n"
   ]
  },
  {
   "cell_type": "code",
   "execution_count": 3,
   "id": "78577ffe",
   "metadata": {},
   "outputs": [],
   "source": [
    "def extract_press_releases(seed_url, target_keyword, min_num_urls):\n",
    "    \n",
    "    child_urls = []\n",
    "    seen_url=[]\n",
    "    result_urls = []\n",
    "    page_num = 0\n",
    "    press_num = 0\n",
    "    \n",
    "    while press_num < min_num_urls and len(child_urls)>=0:\n",
    "        \n",
    "        if len(child_urls) == 0: #find all child urls in current page\n",
    "            \n",
    "            #print('page_num = '+ str(page_num))\n",
    "            page = seed_url + '/page/{}'\n",
    "            page_url = page.format(page_num)\n",
    "            req = urllib.request.Request(page_url, headers={'User-Agent': 'Mozilla/5.0'})\n",
    "            webpage = urllib.request.urlopen(req).read()\n",
    "            soup = BeautifulSoup(webpage, features='html.parser')\n",
    "\n",
    "            for a_tag in soup.find_all('a', href=True):\n",
    "            \n",
    "                org_child_url = a_tag.get('href')\n",
    "                child_url = urllib.parse.urljoin(page_url, org_child_url)\n",
    "            \n",
    "                if child_url not in seen_url and seed_url in child_url:\n",
    "                \n",
    "                    seen_url.append(child_url)\n",
    "                    child_urls.append(child_url)\n",
    "            \n",
    "            #print('Number of child urls in page'+ str(page_num) +\" : \"+ str(len(child_urls)))\n",
    "            page_num += 1\n",
    "        \n",
    "        try:\n",
    "            current_url = child_urls.pop(0)\n",
    "            req = urllib.request.Request(current_url, headers={'User-Agent': 'Mozilla/5.0'})\n",
    "            webpage = urllib.request.urlopen(req).read()\n",
    "            soup = BeautifulSoup(webpage, features='html.parser')\n",
    "            tag = soup.find('span', class_=\"ep_name\", text='Plenary session')\n",
    "            #print('left child urls ='+str(len(child_urls)) )\n",
    "            \n",
    "            if tag:\n",
    "                text = soup.get_text()\n",
    "                if 'crisis' in text.lower():\n",
    "                    press_num += 1\n",
    "                    #print('press_num = '+ str(press_num))\n",
    "                    #print(current_url)\n",
    "                    result_urls.append(current_url)\n",
    "                    save_html_to_file(str(soup), f'2_{press_num}.txt')\n",
    "            #else:\n",
    "                #print('None')\n",
    "        except:\n",
    "            continue\n",
    "            \n",
    "    return result_urls\n",
    "\n",
    "\n",
    "            \n"
   ]
  },
  {
   "cell_type": "code",
   "execution_count": 6,
   "id": "ec539e83",
   "metadata": {},
   "outputs": [
    {
     "name": "stdout",
     "output_type": "stream",
     "text": [
      "the plenary sessions and contain the word “crisis”\n",
      "https://www.europarl.europa.eu/news/en/press-room/20230929IPR06132/nagorno-karabakh-meps-demand-review-of-eu-relations-with-azerbaijan\n",
      "https://www.europarl.europa.eu/news/en/press-room/20230929IPR06130/parliament-argues-for-a-top-up-to-multi-annual-budget-for-crisis-response\n",
      "https://www.europarl.europa.eu/news/en/press-room/20230911IPR04923/reduce-demand-and-protect-people-in-prostitution-say-meps\n",
      "https://www.europarl.europa.eu/news/en/press-room/20230911IPR04918/svietlana-tsikhanouskaya-to-meps-support-belarusians-european-aspirations\n",
      "https://www.europarl.europa.eu/news/en/press-room/20230911IPR04908/meps-vote-to-strengthen-eu-defence-industry-through-common-procurement\n",
      "https://www.europarl.europa.eu/news/en/press-room/20230707IPR02427/covid-19-parliament-adopts-roadmap-to-better-prepare-for-future-health-crises\n",
      "https://www.europarl.europa.eu/news/en/press-room/20230707IPR02421/parliament-adopts-new-rules-to-boost-energy-savings\n",
      "https://www.europarl.europa.eu/news/en/press-room/20230707IPR02418/semiconductors-meps-adopt-legislation-to-boost-eu-chips-industry\n",
      "https://www.europarl.europa.eu/news/en/press-room/20230706IPR02317/ep-today\n",
      "https://www.europarl.europa.eu/news/en/press-room/20230706IPR02316/ep-today\n"
     ]
    }
   ],
   "source": [
    "seed_url = \"https://www.europarl.europa.eu/news/en/press-room\"\n",
    "target_keyword = \"crisis\"\n",
    "min_num_urls = 10\n",
    "\n",
    "press_releases = extract_press_releases(seed_url, target_keyword, min_num_urls)\n",
    "\n",
    "print ('the plenary sessions and contain the word “crisis”')\n",
    "for result in press_releases:\n",
    "    print(result)"
   ]
  },
  {
   "cell_type": "code",
   "execution_count": null,
   "id": "fcb7af91",
   "metadata": {},
   "outputs": [],
   "source": []
  }
 ],
 "metadata": {
  "kernelspec": {
   "display_name": "Python 3 (ipykernel)",
   "language": "python",
   "name": "python3"
  },
  "language_info": {
   "codemirror_mode": {
    "name": "ipython",
    "version": 3
   },
   "file_extension": ".py",
   "mimetype": "text/x-python",
   "name": "python",
   "nbconvert_exporter": "python",
   "pygments_lexer": "ipython3",
   "version": "3.9.12"
  }
 },
 "nbformat": 4,
 "nbformat_minor": 5
}
